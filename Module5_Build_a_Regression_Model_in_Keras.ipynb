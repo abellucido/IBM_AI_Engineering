{
 "cells": [
  {
   "cell_type": "markdown",
   "id": "dfc594fb-89f6-4758-ab9f-4ca3930f4d34",
   "metadata": {},
   "source": [
    "# Regression"
   ]
  },
  {
   "cell_type": "markdown",
   "id": "8c0554a0-2d17-40c9-abc8-df6424728cf5",
   "metadata": {},
   "source": [
    "### General instruction:"
   ]
  },
  {
   "cell_type": "markdown",
   "id": "ed186160-9f4b-4b15-9184-a5e3d247132b",
   "metadata": {},
   "source": [
    "#### 1. Assignment Topic:\n",
    "In this project, you will build a regression model using the Keras library to model the same data about concrete compressive strength that we used in labs 3.\n",
    "\n",
    "#### 2. Concrete Data:\n",
    "\n",
    "For your convenience, the data can be found here again: \n",
    "https://cocl.us/concrete_data\n",
    ". To recap, the predictors in the data of concrete strength include:\n",
    "1. Cement\n",
    "2. Blast Furnace Slag\n",
    "3. Fly Ash\n",
    "4. Water\n",
    "5. Superplasticizer\n",
    "6. Coarse Aggregate\n",
    "7. Fine Aggregate\n",
    "\n",
    "#### 3. Assignment Instructions:\n",
    "\n",
    "Please check the My Submission tab for detailed assignment instructions.\n",
    "\n",
    "#### 4. How to submit:\n",
    "\n",
    "You will need to submit your code for each part in a Jupyter Notebook. Since each part builds on the previous one, you can submit the same notebook four times for grading. Please make sure that you:\n",
    "\n",
    "1. use Markdown to clearly label your code for each part,\n",
    "2. properly comment your code so that your peer who is grading your work is able to understand your code easily,\n",
    "3. include your comments and discussion of the difference in the mean of the mean squared errors among the different parts."
   ]
  },
  {
   "cell_type": "markdown",
   "id": "80382fc9-345d-4f19-8b1d-544ead7b74bb",
   "metadata": {
    "jp-MarkdownHeadingCollapsed": true
   },
   "source": [
    "## Installing dependencies and improting libraries"
   ]
  },
  {
   "cell_type": "code",
   "execution_count": 27,
   "id": "9487f31a-4c49-49d1-9bc8-e93e79a6ae92",
   "metadata": {},
   "outputs": [],
   "source": [
    "import os\n",
    "import pandas as pd\n",
    "import numpy as np\n",
    "import keras\n",
    "from sklearn.model_selection import train_test_split\n",
    "from keras.models import Sequential\n",
    "from keras.layers import Dense\n",
    "from sklearn.metrics import mean_squared_error"
   ]
  },
  {
   "cell_type": "code",
   "execution_count": 2,
   "id": "1ded64a8-52fa-4c61-91ed-094f58ad78b4",
   "metadata": {},
   "outputs": [],
   "source": [
    "current_dir = os.getcwd()\n",
    "file_path = os.path.join(current_dir, 'concrete_data.csv')\n",
    "df = pd.read_csv(file_path)"
   ]
  },
  {
   "cell_type": "code",
   "execution_count": 3,
   "id": "805ca5ed-38ce-4952-926c-7506d3e85474",
   "metadata": {},
   "outputs": [
    {
     "data": {
      "text/html": [
       "<div>\n",
       "<style scoped>\n",
       "    .dataframe tbody tr th:only-of-type {\n",
       "        vertical-align: middle;\n",
       "    }\n",
       "\n",
       "    .dataframe tbody tr th {\n",
       "        vertical-align: top;\n",
       "    }\n",
       "\n",
       "    .dataframe thead th {\n",
       "        text-align: right;\n",
       "    }\n",
       "</style>\n",
       "<table border=\"1\" class=\"dataframe\">\n",
       "  <thead>\n",
       "    <tr style=\"text-align: right;\">\n",
       "      <th></th>\n",
       "      <th>Cement</th>\n",
       "      <th>Blast Furnace Slag</th>\n",
       "      <th>Fly Ash</th>\n",
       "      <th>Water</th>\n",
       "      <th>Superplasticizer</th>\n",
       "      <th>Coarse Aggregate</th>\n",
       "      <th>Fine Aggregate</th>\n",
       "      <th>Age</th>\n",
       "      <th>Strength</th>\n",
       "    </tr>\n",
       "  </thead>\n",
       "  <tbody>\n",
       "    <tr>\n",
       "      <th>1025</th>\n",
       "      <td>276.4</td>\n",
       "      <td>116.0</td>\n",
       "      <td>90.3</td>\n",
       "      <td>179.6</td>\n",
       "      <td>8.9</td>\n",
       "      <td>870.1</td>\n",
       "      <td>768.3</td>\n",
       "      <td>28</td>\n",
       "      <td>44.28</td>\n",
       "    </tr>\n",
       "    <tr>\n",
       "      <th>1026</th>\n",
       "      <td>322.2</td>\n",
       "      <td>0.0</td>\n",
       "      <td>115.6</td>\n",
       "      <td>196.0</td>\n",
       "      <td>10.4</td>\n",
       "      <td>817.9</td>\n",
       "      <td>813.4</td>\n",
       "      <td>28</td>\n",
       "      <td>31.18</td>\n",
       "    </tr>\n",
       "    <tr>\n",
       "      <th>1027</th>\n",
       "      <td>148.5</td>\n",
       "      <td>139.4</td>\n",
       "      <td>108.6</td>\n",
       "      <td>192.7</td>\n",
       "      <td>6.1</td>\n",
       "      <td>892.4</td>\n",
       "      <td>780.0</td>\n",
       "      <td>28</td>\n",
       "      <td>23.70</td>\n",
       "    </tr>\n",
       "    <tr>\n",
       "      <th>1028</th>\n",
       "      <td>159.1</td>\n",
       "      <td>186.7</td>\n",
       "      <td>0.0</td>\n",
       "      <td>175.6</td>\n",
       "      <td>11.3</td>\n",
       "      <td>989.6</td>\n",
       "      <td>788.9</td>\n",
       "      <td>28</td>\n",
       "      <td>32.77</td>\n",
       "    </tr>\n",
       "    <tr>\n",
       "      <th>1029</th>\n",
       "      <td>260.9</td>\n",
       "      <td>100.5</td>\n",
       "      <td>78.3</td>\n",
       "      <td>200.6</td>\n",
       "      <td>8.6</td>\n",
       "      <td>864.5</td>\n",
       "      <td>761.5</td>\n",
       "      <td>28</td>\n",
       "      <td>32.40</td>\n",
       "    </tr>\n",
       "  </tbody>\n",
       "</table>\n",
       "</div>"
      ],
      "text/plain": [
       "      Cement  Blast Furnace Slag  Fly Ash  Water  Superplasticizer  \\\n",
       "1025   276.4               116.0     90.3  179.6               8.9   \n",
       "1026   322.2                 0.0    115.6  196.0              10.4   \n",
       "1027   148.5               139.4    108.6  192.7               6.1   \n",
       "1028   159.1               186.7      0.0  175.6              11.3   \n",
       "1029   260.9               100.5     78.3  200.6               8.6   \n",
       "\n",
       "      Coarse Aggregate  Fine Aggregate  Age  Strength  \n",
       "1025             870.1           768.3   28     44.28  \n",
       "1026             817.9           813.4   28     31.18  \n",
       "1027             892.4           780.0   28     23.70  \n",
       "1028             989.6           788.9   28     32.77  \n",
       "1029             864.5           761.5   28     32.40  "
      ]
     },
     "execution_count": 3,
     "metadata": {},
     "output_type": "execute_result"
    }
   ],
   "source": [
    "df.tail()"
   ]
  },
  {
   "cell_type": "code",
   "execution_count": 4,
   "id": "b74dcceb-59c2-4c1b-b316-28787ef4597a",
   "metadata": {},
   "outputs": [
    {
     "data": {
      "text/html": [
       "<div>\n",
       "<style scoped>\n",
       "    .dataframe tbody tr th:only-of-type {\n",
       "        vertical-align: middle;\n",
       "    }\n",
       "\n",
       "    .dataframe tbody tr th {\n",
       "        vertical-align: top;\n",
       "    }\n",
       "\n",
       "    .dataframe thead th {\n",
       "        text-align: right;\n",
       "    }\n",
       "</style>\n",
       "<table border=\"1\" class=\"dataframe\">\n",
       "  <thead>\n",
       "    <tr style=\"text-align: right;\">\n",
       "      <th></th>\n",
       "      <th>Cement</th>\n",
       "      <th>Blast Furnace Slag</th>\n",
       "      <th>Fly Ash</th>\n",
       "      <th>Water</th>\n",
       "      <th>Superplasticizer</th>\n",
       "      <th>Coarse Aggregate</th>\n",
       "      <th>Fine Aggregate</th>\n",
       "      <th>Age</th>\n",
       "      <th>Strength</th>\n",
       "    </tr>\n",
       "  </thead>\n",
       "  <tbody>\n",
       "    <tr>\n",
       "      <th>count</th>\n",
       "      <td>1030.000000</td>\n",
       "      <td>1030.000000</td>\n",
       "      <td>1030.000000</td>\n",
       "      <td>1030.000000</td>\n",
       "      <td>1030.000000</td>\n",
       "      <td>1030.000000</td>\n",
       "      <td>1030.000000</td>\n",
       "      <td>1030.000000</td>\n",
       "      <td>1030.000000</td>\n",
       "    </tr>\n",
       "    <tr>\n",
       "      <th>mean</th>\n",
       "      <td>281.167864</td>\n",
       "      <td>73.895825</td>\n",
       "      <td>54.188350</td>\n",
       "      <td>181.567282</td>\n",
       "      <td>6.204660</td>\n",
       "      <td>972.918932</td>\n",
       "      <td>773.580485</td>\n",
       "      <td>45.662136</td>\n",
       "      <td>35.817961</td>\n",
       "    </tr>\n",
       "    <tr>\n",
       "      <th>std</th>\n",
       "      <td>104.506364</td>\n",
       "      <td>86.279342</td>\n",
       "      <td>63.997004</td>\n",
       "      <td>21.354219</td>\n",
       "      <td>5.973841</td>\n",
       "      <td>77.753954</td>\n",
       "      <td>80.175980</td>\n",
       "      <td>63.169912</td>\n",
       "      <td>16.705742</td>\n",
       "    </tr>\n",
       "    <tr>\n",
       "      <th>min</th>\n",
       "      <td>102.000000</td>\n",
       "      <td>0.000000</td>\n",
       "      <td>0.000000</td>\n",
       "      <td>121.800000</td>\n",
       "      <td>0.000000</td>\n",
       "      <td>801.000000</td>\n",
       "      <td>594.000000</td>\n",
       "      <td>1.000000</td>\n",
       "      <td>2.330000</td>\n",
       "    </tr>\n",
       "    <tr>\n",
       "      <th>25%</th>\n",
       "      <td>192.375000</td>\n",
       "      <td>0.000000</td>\n",
       "      <td>0.000000</td>\n",
       "      <td>164.900000</td>\n",
       "      <td>0.000000</td>\n",
       "      <td>932.000000</td>\n",
       "      <td>730.950000</td>\n",
       "      <td>7.000000</td>\n",
       "      <td>23.710000</td>\n",
       "    </tr>\n",
       "    <tr>\n",
       "      <th>50%</th>\n",
       "      <td>272.900000</td>\n",
       "      <td>22.000000</td>\n",
       "      <td>0.000000</td>\n",
       "      <td>185.000000</td>\n",
       "      <td>6.400000</td>\n",
       "      <td>968.000000</td>\n",
       "      <td>779.500000</td>\n",
       "      <td>28.000000</td>\n",
       "      <td>34.445000</td>\n",
       "    </tr>\n",
       "    <tr>\n",
       "      <th>75%</th>\n",
       "      <td>350.000000</td>\n",
       "      <td>142.950000</td>\n",
       "      <td>118.300000</td>\n",
       "      <td>192.000000</td>\n",
       "      <td>10.200000</td>\n",
       "      <td>1029.400000</td>\n",
       "      <td>824.000000</td>\n",
       "      <td>56.000000</td>\n",
       "      <td>46.135000</td>\n",
       "    </tr>\n",
       "    <tr>\n",
       "      <th>max</th>\n",
       "      <td>540.000000</td>\n",
       "      <td>359.400000</td>\n",
       "      <td>200.100000</td>\n",
       "      <td>247.000000</td>\n",
       "      <td>32.200000</td>\n",
       "      <td>1145.000000</td>\n",
       "      <td>992.600000</td>\n",
       "      <td>365.000000</td>\n",
       "      <td>82.600000</td>\n",
       "    </tr>\n",
       "  </tbody>\n",
       "</table>\n",
       "</div>"
      ],
      "text/plain": [
       "            Cement  Blast Furnace Slag      Fly Ash        Water  \\\n",
       "count  1030.000000         1030.000000  1030.000000  1030.000000   \n",
       "mean    281.167864           73.895825    54.188350   181.567282   \n",
       "std     104.506364           86.279342    63.997004    21.354219   \n",
       "min     102.000000            0.000000     0.000000   121.800000   \n",
       "25%     192.375000            0.000000     0.000000   164.900000   \n",
       "50%     272.900000           22.000000     0.000000   185.000000   \n",
       "75%     350.000000          142.950000   118.300000   192.000000   \n",
       "max     540.000000          359.400000   200.100000   247.000000   \n",
       "\n",
       "       Superplasticizer  Coarse Aggregate  Fine Aggregate          Age  \\\n",
       "count       1030.000000       1030.000000     1030.000000  1030.000000   \n",
       "mean           6.204660        972.918932      773.580485    45.662136   \n",
       "std            5.973841         77.753954       80.175980    63.169912   \n",
       "min            0.000000        801.000000      594.000000     1.000000   \n",
       "25%            0.000000        932.000000      730.950000     7.000000   \n",
       "50%            6.400000        968.000000      779.500000    28.000000   \n",
       "75%           10.200000       1029.400000      824.000000    56.000000   \n",
       "max           32.200000       1145.000000      992.600000   365.000000   \n",
       "\n",
       "          Strength  \n",
       "count  1030.000000  \n",
       "mean     35.817961  \n",
       "std      16.705742  \n",
       "min       2.330000  \n",
       "25%      23.710000  \n",
       "50%      34.445000  \n",
       "75%      46.135000  \n",
       "max      82.600000  "
      ]
     },
     "execution_count": 4,
     "metadata": {},
     "output_type": "execute_result"
    }
   ],
   "source": [
    "df.describe()"
   ]
  },
  {
   "cell_type": "code",
   "execution_count": 6,
   "id": "fc389e91-1799-41b1-b693-0690b64890a4",
   "metadata": {},
   "outputs": [
    {
     "data": {
      "text/plain": [
       "(1030, 9)"
      ]
     },
     "execution_count": 6,
     "metadata": {},
     "output_type": "execute_result"
    }
   ],
   "source": [
    "df.shape"
   ]
  },
  {
   "cell_type": "code",
   "execution_count": 5,
   "id": "a8f20dfc-9ad1-4ce1-bb43-78e1a6091d15",
   "metadata": {},
   "outputs": [
    {
     "data": {
      "text/plain": [
       "Cement                0\n",
       "Blast Furnace Slag    0\n",
       "Fly Ash               0\n",
       "Water                 0\n",
       "Superplasticizer      0\n",
       "Coarse Aggregate      0\n",
       "Fine Aggregate        0\n",
       "Age                   0\n",
       "Strength              0\n",
       "dtype: int64"
      ]
     },
     "execution_count": 5,
     "metadata": {},
     "output_type": "execute_result"
    }
   ],
   "source": [
    "df.isnull().sum()"
   ]
  },
  {
   "cell_type": "markdown",
   "id": "df1382b5-733a-43ca-92b8-fa30296674d5",
   "metadata": {
    "jp-MarkdownHeadingCollapsed": true
   },
   "source": [
    "## A. Build a baseline model (5 marks) "
   ]
  },
  {
   "cell_type": "markdown",
   "id": "084e56bb-7943-4460-bcae-092c0a51d0ae",
   "metadata": {},
   "source": [
    "Use the Keras library to build a neural network with the following:\n",
    "- One hidden layer of 10 nodes, and a ReLU activation function\n",
    "- Use the adam optimizer and the mean squared error  as the loss function.\n",
    "1. Randomly split the data into a training and test sets by holding 30% of the data for testing. You can use the \n",
    "train_test_split\n",
    "helper function from Scikit-learn.\n",
    "2. Train the model on the training data using 50 epochs.\n",
    "3. Evaluate the model on the test data and compute the mean squared error between the predicted concrete strength and the actual concrete strength. You can use the mean_squared_error function from Scikit-learn.\n",
    "4. Repeat steps 1 - 3, 50 times, i.e., create a list of 50 mean squared errors.\n",
    "5. Report the mean and the standard deviation of the mean squared errors.\n",
    "Submit your Jupyter Notebook with your code and comments."
   ]
  },
  {
   "cell_type": "markdown",
   "id": "bb7af821-19c5-4a10-b11c-41a68fa2126c",
   "metadata": {
    "jp-MarkdownHeadingCollapsed": true
   },
   "source": [
    "### 1. Split the data into a training and test sets"
   ]
  },
  {
   "cell_type": "markdown",
   "id": "18140f25-25b4-4a97-b36c-3dc061e878e8",
   "metadata": {
    "jp-MarkdownHeadingCollapsed": true
   },
   "source": [
    "#### 1.1. Split data into predictors and target"
   ]
  },
  {
   "cell_type": "code",
   "execution_count": 8,
   "id": "f34650a3-113d-4edd-a046-0dff336f0595",
   "metadata": {},
   "outputs": [],
   "source": [
    "concrete_data = df"
   ]
  },
  {
   "cell_type": "code",
   "execution_count": 9,
   "id": "ffce130a-11bb-4ad8-a307-3cccb6235d60",
   "metadata": {},
   "outputs": [],
   "source": [
    "concrete_data_columns = concrete_data.columns\n",
    "\n",
    "predictors = concrete_data[concrete_data_columns[concrete_data_columns != 'Strength']] # all columns except Strength\n",
    "target = concrete_data['Strength'] # Strength column"
   ]
  },
  {
   "cell_type": "code",
   "execution_count": 11,
   "id": "d15c22eb-8a60-4b90-9c55-b4def6473b99",
   "metadata": {},
   "outputs": [
    {
     "data": {
      "text/html": [
       "<div>\n",
       "<style scoped>\n",
       "    .dataframe tbody tr th:only-of-type {\n",
       "        vertical-align: middle;\n",
       "    }\n",
       "\n",
       "    .dataframe tbody tr th {\n",
       "        vertical-align: top;\n",
       "    }\n",
       "\n",
       "    .dataframe thead th {\n",
       "        text-align: right;\n",
       "    }\n",
       "</style>\n",
       "<table border=\"1\" class=\"dataframe\">\n",
       "  <thead>\n",
       "    <tr style=\"text-align: right;\">\n",
       "      <th></th>\n",
       "      <th>Cement</th>\n",
       "      <th>Blast Furnace Slag</th>\n",
       "      <th>Fly Ash</th>\n",
       "      <th>Water</th>\n",
       "      <th>Superplasticizer</th>\n",
       "      <th>Coarse Aggregate</th>\n",
       "      <th>Fine Aggregate</th>\n",
       "      <th>Age</th>\n",
       "    </tr>\n",
       "  </thead>\n",
       "  <tbody>\n",
       "    <tr>\n",
       "      <th>1025</th>\n",
       "      <td>276.4</td>\n",
       "      <td>116.0</td>\n",
       "      <td>90.3</td>\n",
       "      <td>179.6</td>\n",
       "      <td>8.9</td>\n",
       "      <td>870.1</td>\n",
       "      <td>768.3</td>\n",
       "      <td>28</td>\n",
       "    </tr>\n",
       "    <tr>\n",
       "      <th>1026</th>\n",
       "      <td>322.2</td>\n",
       "      <td>0.0</td>\n",
       "      <td>115.6</td>\n",
       "      <td>196.0</td>\n",
       "      <td>10.4</td>\n",
       "      <td>817.9</td>\n",
       "      <td>813.4</td>\n",
       "      <td>28</td>\n",
       "    </tr>\n",
       "    <tr>\n",
       "      <th>1027</th>\n",
       "      <td>148.5</td>\n",
       "      <td>139.4</td>\n",
       "      <td>108.6</td>\n",
       "      <td>192.7</td>\n",
       "      <td>6.1</td>\n",
       "      <td>892.4</td>\n",
       "      <td>780.0</td>\n",
       "      <td>28</td>\n",
       "    </tr>\n",
       "    <tr>\n",
       "      <th>1028</th>\n",
       "      <td>159.1</td>\n",
       "      <td>186.7</td>\n",
       "      <td>0.0</td>\n",
       "      <td>175.6</td>\n",
       "      <td>11.3</td>\n",
       "      <td>989.6</td>\n",
       "      <td>788.9</td>\n",
       "      <td>28</td>\n",
       "    </tr>\n",
       "    <tr>\n",
       "      <th>1029</th>\n",
       "      <td>260.9</td>\n",
       "      <td>100.5</td>\n",
       "      <td>78.3</td>\n",
       "      <td>200.6</td>\n",
       "      <td>8.6</td>\n",
       "      <td>864.5</td>\n",
       "      <td>761.5</td>\n",
       "      <td>28</td>\n",
       "    </tr>\n",
       "  </tbody>\n",
       "</table>\n",
       "</div>"
      ],
      "text/plain": [
       "      Cement  Blast Furnace Slag  Fly Ash  Water  Superplasticizer  \\\n",
       "1025   276.4               116.0     90.3  179.6               8.9   \n",
       "1026   322.2                 0.0    115.6  196.0              10.4   \n",
       "1027   148.5               139.4    108.6  192.7               6.1   \n",
       "1028   159.1               186.7      0.0  175.6              11.3   \n",
       "1029   260.9               100.5     78.3  200.6               8.6   \n",
       "\n",
       "      Coarse Aggregate  Fine Aggregate  Age  \n",
       "1025             870.1           768.3   28  \n",
       "1026             817.9           813.4   28  \n",
       "1027             892.4           780.0   28  \n",
       "1028             989.6           788.9   28  \n",
       "1029             864.5           761.5   28  "
      ]
     },
     "execution_count": 11,
     "metadata": {},
     "output_type": "execute_result"
    }
   ],
   "source": [
    "predictors.tail()"
   ]
  },
  {
   "cell_type": "code",
   "execution_count": 12,
   "id": "4315ac0b-6b0d-40df-83de-6c08ce96ae39",
   "metadata": {},
   "outputs": [
    {
     "data": {
      "text/plain": [
       "1025    44.28\n",
       "1026    31.18\n",
       "1027    23.70\n",
       "1028    32.77\n",
       "1029    32.40\n",
       "Name: Strength, dtype: float64"
      ]
     },
     "execution_count": 12,
     "metadata": {},
     "output_type": "execute_result"
    }
   ],
   "source": [
    "target.tail()"
   ]
  },
  {
   "cell_type": "code",
   "execution_count": 37,
   "id": "832c45be-7759-4c93-94b6-bfc5c9a339f4",
   "metadata": {},
   "outputs": [],
   "source": [
    "n_cols = predictors.shape[1] # number of predictors"
   ]
  },
  {
   "cell_type": "markdown",
   "id": "5a735dbd-bfe2-4648-9fbc-574597748da9",
   "metadata": {
    "jp-MarkdownHeadingCollapsed": true
   },
   "source": [
    "#### 1.2. Split to train-test subset"
   ]
  },
  {
   "cell_type": "code",
   "execution_count": 35,
   "id": "7035158f-2524-40bd-8a48-33f19bc20b06",
   "metadata": {},
   "outputs": [],
   "source": [
    "X = predictors\n",
    "y = target\n",
    "X_train, X_test, y_train, y_test = train_test_split(X, y, test_size=0.3, random_state=42)"
   ]
  },
  {
   "cell_type": "markdown",
   "id": "2c5b8691-7292-4189-b448-e958b768b623",
   "metadata": {
    "jp-MarkdownHeadingCollapsed": true
   },
   "source": [
    "### 2. Train the model"
   ]
  },
  {
   "cell_type": "markdown",
   "id": "171f8280-6faa-4fc1-8e88-7744b08a30f7",
   "metadata": {
    "jp-MarkdownHeadingCollapsed": true
   },
   "source": [
    "#### 2.1. Build a neural network"
   ]
  },
  {
   "cell_type": "code",
   "execution_count": 23,
   "id": "9beb38a2-608b-43f5-8949-83c2e4a0f63b",
   "metadata": {},
   "outputs": [],
   "source": [
    "# define regression model\n",
    "def regression_model():\n",
    "    # create model\n",
    "    model = Sequential()\n",
    "    model.add(Dense(10, activation='relu', input_shape=(n_cols,)))\n",
    "    model.add(Dense(1))\n",
    "    \n",
    "    # compile model\n",
    "    model.compile(optimizer='adam', loss='mean_squared_error')\n",
    "    return model"
   ]
  },
  {
   "cell_type": "markdown",
   "id": "f365c5d9-1952-4708-991b-23c8f85c7173",
   "metadata": {
    "jp-MarkdownHeadingCollapsed": true
   },
   "source": [
    "#### 2.2. Train and test the model"
   ]
  },
  {
   "cell_type": "code",
   "execution_count": 24,
   "id": "c49174ab-abeb-4c84-9e90-09fd4ea7a801",
   "metadata": {},
   "outputs": [],
   "source": [
    "# build the model\n",
    "model = regression_model()"
   ]
  },
  {
   "cell_type": "code",
   "execution_count": 26,
   "id": "dc0801fb-4c05-4b19-a9c8-d0e6241e785a",
   "metadata": {},
   "outputs": [
    {
     "name": "stdout",
     "output_type": "stream",
     "text": [
      "Epoch 1/50\n",
      "16/16 - 0s - loss: 659.9481 - val_loss: 572.4831 - 59ms/epoch - 4ms/step\n",
      "Epoch 2/50\n",
      "16/16 - 0s - loss: 623.8214 - val_loss: 534.2709 - 32ms/epoch - 2ms/step\n",
      "Epoch 3/50\n",
      "16/16 - 0s - loss: 579.4589 - val_loss: 496.6895 - 30ms/epoch - 2ms/step\n",
      "Epoch 4/50\n",
      "16/16 - 0s - loss: 537.5168 - val_loss: 463.8261 - 32ms/epoch - 2ms/step\n",
      "Epoch 5/50\n",
      "16/16 - 0s - loss: 500.9638 - val_loss: 434.0738 - 31ms/epoch - 2ms/step\n",
      "Epoch 6/50\n",
      "16/16 - 0s - loss: 468.7195 - val_loss: 406.4196 - 31ms/epoch - 2ms/step\n",
      "Epoch 7/50\n",
      "16/16 - 0s - loss: 437.8703 - val_loss: 381.9273 - 29ms/epoch - 2ms/step\n",
      "Epoch 8/50\n",
      "16/16 - 0s - loss: 410.5940 - val_loss: 359.4396 - 29ms/epoch - 2ms/step\n",
      "Epoch 9/50\n",
      "16/16 - 0s - loss: 385.5906 - val_loss: 338.6426 - 30ms/epoch - 2ms/step\n",
      "Epoch 10/50\n",
      "16/16 - 0s - loss: 362.3828 - val_loss: 318.9467 - 31ms/epoch - 2ms/step\n",
      "Epoch 11/50\n",
      "16/16 - 0s - loss: 340.8242 - val_loss: 300.4897 - 33ms/epoch - 2ms/step\n",
      "Epoch 12/50\n",
      "16/16 - 0s - loss: 320.3775 - val_loss: 283.6197 - 35ms/epoch - 2ms/step\n",
      "Epoch 13/50\n",
      "16/16 - 0s - loss: 301.6288 - val_loss: 267.5576 - 30ms/epoch - 2ms/step\n",
      "Epoch 14/50\n",
      "16/16 - 0s - loss: 283.7157 - val_loss: 252.5884 - 31ms/epoch - 2ms/step\n",
      "Epoch 15/50\n",
      "16/16 - 0s - loss: 266.6394 - val_loss: 238.7853 - 30ms/epoch - 2ms/step\n",
      "Epoch 16/50\n",
      "16/16 - 0s - loss: 251.0555 - val_loss: 225.2315 - 32ms/epoch - 2ms/step\n",
      "Epoch 17/50\n",
      "16/16 - 0s - loss: 235.8269 - val_loss: 212.4239 - 32ms/epoch - 2ms/step\n",
      "Epoch 18/50\n",
      "16/16 - 0s - loss: 221.3702 - val_loss: 199.9184 - 32ms/epoch - 2ms/step\n",
      "Epoch 19/50\n",
      "16/16 - 0s - loss: 207.4803 - val_loss: 187.7838 - 28ms/epoch - 2ms/step\n",
      "Epoch 20/50\n",
      "16/16 - 0s - loss: 193.8303 - val_loss: 176.2664 - 29ms/epoch - 2ms/step\n",
      "Epoch 21/50\n",
      "16/16 - 0s - loss: 180.9257 - val_loss: 165.2216 - 29ms/epoch - 2ms/step\n",
      "Epoch 22/50\n",
      "16/16 - 0s - loss: 168.7502 - val_loss: 154.4577 - 31ms/epoch - 2ms/step\n",
      "Epoch 23/50\n",
      "16/16 - 0s - loss: 156.9799 - val_loss: 144.4154 - 29ms/epoch - 2ms/step\n",
      "Epoch 24/50\n",
      "16/16 - 0s - loss: 145.9423 - val_loss: 134.7794 - 32ms/epoch - 2ms/step\n",
      "Epoch 25/50\n",
      "16/16 - 0s - loss: 135.4826 - val_loss: 125.7018 - 31ms/epoch - 2ms/step\n",
      "Epoch 26/50\n",
      "16/16 - 0s - loss: 125.6777 - val_loss: 117.0863 - 30ms/epoch - 2ms/step\n",
      "Epoch 27/50\n",
      "16/16 - 0s - loss: 116.4450 - val_loss: 109.0483 - 29ms/epoch - 2ms/step\n",
      "Epoch 28/50\n",
      "16/16 - 0s - loss: 107.6957 - val_loss: 101.5595 - 28ms/epoch - 2ms/step\n",
      "Epoch 29/50\n",
      "16/16 - 0s - loss: 99.7419 - val_loss: 94.3457 - 31ms/epoch - 2ms/step\n",
      "Epoch 30/50\n",
      "16/16 - 0s - loss: 92.2852 - val_loss: 87.5802 - 30ms/epoch - 2ms/step\n",
      "Epoch 31/50\n",
      "16/16 - 0s - loss: 85.1256 - val_loss: 81.3941 - 31ms/epoch - 2ms/step\n",
      "Epoch 32/50\n",
      "16/16 - 0s - loss: 78.7521 - val_loss: 75.5134 - 28ms/epoch - 2ms/step\n",
      "Epoch 33/50\n",
      "16/16 - 0s - loss: 72.8700 - val_loss: 69.8402 - 31ms/epoch - 2ms/step\n",
      "Epoch 34/50\n",
      "16/16 - 0s - loss: 67.0518 - val_loss: 64.8915 - 30ms/epoch - 2ms/step\n",
      "Epoch 35/50\n",
      "16/16 - 0s - loss: 61.9871 - val_loss: 60.1737 - 31ms/epoch - 2ms/step\n",
      "Epoch 36/50\n",
      "16/16 - 0s - loss: 57.2962 - val_loss: 55.7259 - 32ms/epoch - 2ms/step\n",
      "Epoch 37/50\n",
      "16/16 - 0s - loss: 52.9469 - val_loss: 51.5468 - 29ms/epoch - 2ms/step\n",
      "Epoch 38/50\n",
      "16/16 - 0s - loss: 48.8782 - val_loss: 47.6948 - 29ms/epoch - 2ms/step\n",
      "Epoch 39/50\n",
      "16/16 - 0s - loss: 45.0930 - val_loss: 44.1599 - 32ms/epoch - 2ms/step\n",
      "Epoch 40/50\n",
      "16/16 - 0s - loss: 41.6332 - val_loss: 40.8518 - 29ms/epoch - 2ms/step\n",
      "Epoch 41/50\n",
      "16/16 - 0s - loss: 38.4344 - val_loss: 37.7399 - 30ms/epoch - 2ms/step\n",
      "Epoch 42/50\n",
      "16/16 - 0s - loss: 35.4625 - val_loss: 34.8701 - 29ms/epoch - 2ms/step\n",
      "Epoch 43/50\n",
      "16/16 - 0s - loss: 32.7461 - val_loss: 32.1892 - 30ms/epoch - 2ms/step\n",
      "Epoch 44/50\n",
      "16/16 - 0s - loss: 30.2518 - val_loss: 29.6644 - 28ms/epoch - 2ms/step\n",
      "Epoch 45/50\n",
      "16/16 - 0s - loss: 27.8662 - val_loss: 27.4087 - 32ms/epoch - 2ms/step\n",
      "Epoch 46/50\n",
      "16/16 - 0s - loss: 25.7420 - val_loss: 25.2873 - 33ms/epoch - 2ms/step\n",
      "Epoch 47/50\n",
      "16/16 - 0s - loss: 23.7523 - val_loss: 23.2866 - 31ms/epoch - 2ms/step\n",
      "Epoch 48/50\n",
      "16/16 - 0s - loss: 21.9277 - val_loss: 21.4458 - 30ms/epoch - 2ms/step\n",
      "Epoch 49/50\n",
      "16/16 - 0s - loss: 20.2284 - val_loss: 19.7812 - 30ms/epoch - 2ms/step\n",
      "Epoch 50/50\n",
      "16/16 - 0s - loss: 18.7090 - val_loss: 18.2140 - 30ms/epoch - 2ms/step\n"
     ]
    },
    {
     "data": {
      "text/plain": [
       "<keras.src.callbacks.History at 0x1ec1d66db80>"
      ]
     },
     "execution_count": 26,
     "metadata": {},
     "output_type": "execute_result"
    }
   ],
   "source": [
    "# fit the model\n",
    "model.fit(X_train, y_train, validation_split=0.3, epochs=50, verbose=2)"
   ]
  },
  {
   "cell_type": "markdown",
   "id": "1a54d1f1-4af9-4dc0-b35c-0ba715a5e6d9",
   "metadata": {},
   "source": [
    "### 3. Evaluate the model"
   ]
  },
  {
   "cell_type": "code",
   "execution_count": 28,
   "id": "2683e742-7df3-486f-8be3-8d26a60187d4",
   "metadata": {},
   "outputs": [
    {
     "name": "stdout",
     "output_type": "stream",
     "text": [
      "10/10 [==============================] - 0s 846us/step\n"
     ]
    }
   ],
   "source": [
    "# Predict the concrete strength for the test data\n",
    "y_pred = model.predict(X_test)"
   ]
  },
  {
   "cell_type": "code",
   "execution_count": 30,
   "id": "ae532c33-da86-42d8-ae4c-73e85b079865",
   "metadata": {},
   "outputs": [
    {
     "name": "stdout",
     "output_type": "stream",
     "text": [
      "Mean Squared Error on Test Data: 17.6684\n"
     ]
    }
   ],
   "source": [
    "# Compute the Mean Squared Error between actual and predicted values\n",
    "mse = mean_squared_error(y_test, y_pred)\n",
    "print(f\"Mean Squared Error on Test Data: {mse:.4f}\")"
   ]
  },
  {
   "cell_type": "markdown",
   "id": "b6d4b043-530f-4e6f-a3ac-fc8f06df9b62",
   "metadata": {
    "jp-MarkdownHeadingCollapsed": true
   },
   "source": [
    "### 4. Repeat steps 1-3 50 times"
   ]
  },
  {
   "cell_type": "code",
   "execution_count": 31,
   "id": "8e1eb528-2138-4f6f-9f36-2be3e2ed595e",
   "metadata": {},
   "outputs": [
    {
     "name": "stdout",
     "output_type": "stream",
     "text": [
      "10/10 [==============================] - 0s 555us/step\n",
      "10/10 [==============================] - 0s 733us/step\n",
      "10/10 [==============================] - 0s 778us/step\n",
      "10/10 [==============================] - 0s 677us/step\n",
      "10/10 [==============================] - 0s 686us/step\n",
      "10/10 [==============================] - 0s 783us/step\n",
      "10/10 [==============================] - 0s 778us/step\n",
      "10/10 [==============================] - 0s 667us/step\n",
      "10/10 [==============================] - 0s 778us/step\n",
      "10/10 [==============================] - 0s 556us/step\n",
      "10/10 [==============================] - 0s 667us/step\n",
      "10/10 [==============================] - 0s 788us/step\n",
      "10/10 [==============================] - 0s 671us/step\n",
      "10/10 [==============================] - 0s 777us/step\n",
      "10/10 [==============================] - 0s 667us/step\n",
      "10/10 [==============================] - 0s 700us/step\n",
      "10/10 [==============================] - 0s 667us/step\n",
      "10/10 [==============================] - 0s 778us/step\n",
      "10/10 [==============================] - 0s 774us/step\n",
      "10/10 [==============================] - 0s 583us/step\n",
      "10/10 [==============================] - 0s 796us/step\n",
      "10/10 [==============================] - 0s 779us/step\n",
      "10/10 [==============================] - 0s 648us/step\n",
      "10/10 [==============================] - 0s 667us/step\n",
      "10/10 [==============================] - 0s 555us/step\n",
      "10/10 [==============================] - 0s 560us/step\n",
      "10/10 [==============================] - 0s 661us/step\n",
      "10/10 [==============================] - 0s 669us/step\n",
      "10/10 [==============================] - 0s 564us/step\n",
      "10/10 [==============================] - 0s 778us/step\n",
      "10/10 [==============================] - 0s 671us/step\n",
      "10/10 [==============================] - 0s 554us/step\n",
      "10/10 [==============================] - 0s 712us/step\n",
      "10/10 [==============================] - 0s 725us/step\n",
      "10/10 [==============================] - 0s 667us/step\n",
      "10/10 [==============================] - 0s 667us/step\n",
      "10/10 [==============================] - 0s 666us/step\n",
      "10/10 [==============================] - 0s 889us/step\n",
      "10/10 [==============================] - 0s 666us/step\n",
      "10/10 [==============================] - 0s 778us/step\n",
      "10/10 [==============================] - 0s 778us/step\n",
      "10/10 [==============================] - 0s 778us/step\n",
      "10/10 [==============================] - 0s 556us/step\n",
      "10/10 [==============================] - 0s 723us/step\n",
      "10/10 [==============================] - 0s 697us/step\n",
      "10/10 [==============================] - 0s 667us/step\n",
      "10/10 [==============================] - 0s 626us/step\n",
      "10/10 [==============================] - 0s 667us/step\n",
      "10/10 [==============================] - 0s 667us/step\n",
      "10/10 [==============================] - 0s 667us/step\n",
      "List of Mean Squared Errors from 50 evaluations:\n",
      "[17.668392262888368, 17.668392262888368, 17.668392262888368, 17.668392262888368, 17.668392262888368, 17.668392262888368, 17.668392262888368, 17.668392262888368, 17.668392262888368, 17.668392262888368, 17.668392262888368, 17.668392262888368, 17.668392262888368, 17.668392262888368, 17.668392262888368, 17.668392262888368, 17.668392262888368, 17.668392262888368, 17.668392262888368, 17.668392262888368, 17.668392262888368, 17.668392262888368, 17.668392262888368, 17.668392262888368, 17.668392262888368, 17.668392262888368, 17.668392262888368, 17.668392262888368, 17.668392262888368, 17.668392262888368, 17.668392262888368, 17.668392262888368, 17.668392262888368, 17.668392262888368, 17.668392262888368, 17.668392262888368, 17.668392262888368, 17.668392262888368, 17.668392262888368, 17.668392262888368, 17.668392262888368, 17.668392262888368, 17.668392262888368, 17.668392262888368, 17.668392262888368, 17.668392262888368, 17.668392262888368, 17.668392262888368, 17.668392262888368, 17.668392262888368]\n"
     ]
    }
   ],
   "source": [
    "mse_list = []\n",
    "\n",
    "for i in range(50):\n",
    "    y_pred = model.predict(X_test)\n",
    "    mse = mean_squared_error(y_test, y_pred)\n",
    "    mse_list.append(mse)\n",
    "print(\"List of Mean Squared Errors from 50 evaluations:\")\n",
    "print(mse_list)"
   ]
  },
  {
   "cell_type": "markdown",
   "id": "d97db5c1-4e7c-499a-9a77-67bc8d4b1e4e",
   "metadata": {
    "jp-MarkdownHeadingCollapsed": true
   },
   "source": [
    "### 5. Mean and SD of the mean squared error"
   ]
  },
  {
   "cell_type": "code",
   "execution_count": 33,
   "id": "33702811-d081-4ebc-b665-815ac8381340",
   "metadata": {},
   "outputs": [
    {
     "name": "stdout",
     "output_type": "stream",
     "text": [
      "Mean of MSE on Test Data over 50 runs: 17.6684\n",
      "Standard Deviation of MSE on Test Data over 50 runs: 0.0000\n"
     ]
    }
   ],
   "source": [
    "mean_mse = np.mean(mse_list)\n",
    "sd_mse = np.std(mse_list)\n",
    "print(f\"Mean of MSE on Test Data over 50 runs: {mean_mse:.4f}\")\n",
    "print(f\"Standard Deviation of MSE on Test Data over 50 runs: {sd_mse:.4f}\")"
   ]
  },
  {
   "cell_type": "code",
   "execution_count": 36,
   "id": "5d84d9fc-f64c-420e-b0b1-31466a24b0c5",
   "metadata": {},
   "outputs": [
    {
     "name": "stdout",
     "output_type": "stream",
     "text": [
      "10/10 [==============================] - 0s 785us/step\n",
      "10/10 [==============================] - 0s 778us/step\n",
      "10/10 [==============================] - 0s 778us/step\n",
      "10/10 [==============================] - 0s 717us/step\n",
      "10/10 [==============================] - 0s 815us/step\n",
      "10/10 [==============================] - 0s 778us/step\n",
      "10/10 [==============================] - 0s 778us/step\n",
      "10/10 [==============================] - 0s 778us/step\n",
      "10/10 [==============================] - 0s 889us/step\n",
      "10/10 [==============================] - 0s 889us/step\n",
      "10/10 [==============================] - 0s 778us/step\n",
      "10/10 [==============================] - 0s 778us/step\n",
      "10/10 [==============================] - 0s 667us/step\n",
      "10/10 [==============================] - 0s 783us/step\n",
      "10/10 [==============================] - 0s 778us/step\n",
      "10/10 [==============================] - 0s 778us/step\n",
      "10/10 [==============================] - 0s 667us/step\n",
      "10/10 [==============================] - 0s 778us/step\n",
      "10/10 [==============================] - 0s 778us/step\n",
      "10/10 [==============================] - 0s 703us/step\n",
      "10/10 [==============================] - 0s 784us/step\n",
      "10/10 [==============================] - 0s 672us/step\n",
      "10/10 [==============================] - 0s 667us/step\n",
      "10/10 [==============================] - 0s 867us/step\n",
      "10/10 [==============================] - 0s 778us/step\n",
      "10/10 [==============================] - 0s 679us/step\n",
      "10/10 [==============================] - 0s 885us/step\n",
      "10/10 [==============================] - 0s 671us/step\n",
      "10/10 [==============================] - 0s 667us/step\n",
      "10/10 [==============================] - 0s 667us/step\n",
      "10/10 [==============================] - 0s 666us/step\n",
      "10/10 [==============================] - 0s 653us/step\n",
      "10/10 [==============================] - 0s 779us/step\n",
      "10/10 [==============================] - 0s 667us/step\n",
      "10/10 [==============================] - 0s 667us/step\n",
      "10/10 [==============================] - 0s 779us/step\n",
      "10/10 [==============================] - 0s 779us/step\n",
      "10/10 [==============================] - 0s 778us/step\n",
      "10/10 [==============================] - 0s 779us/step\n",
      "10/10 [==============================] - 0s 779us/step\n",
      "10/10 [==============================] - 0s 1ms/step\n",
      "10/10 [==============================] - 0s 667us/step\n",
      "10/10 [==============================] - 0s 787us/step\n",
      "10/10 [==============================] - 0s 778us/step\n",
      "10/10 [==============================] - 0s 873us/step\n",
      "10/10 [==============================] - 0s 667us/step\n",
      "10/10 [==============================] - 0s 720us/step\n",
      "10/10 [==============================] - 0s 778us/step\n",
      "10/10 [==============================] - 0s 667us/step\n",
      "10/10 [==============================] - 0s 778us/step\n",
      "Mean MSE over 50 runs: 652.4933\n",
      "Standard Deviation of MSE over 50 runs: 837.8043\n"
     ]
    }
   ],
   "source": [
    "# List to store MSE values for each run\n",
    "mse_list = []\n",
    "\n",
    "# Repeat the process 50 times\n",
    "for _ in range(50):\n",
    "    # 1. Split the data into training and test sets\n",
    "    X_train, X_test, y_train, y_test = train_test_split(X, y, test_size=0.3, random_state=None)  # random_state=None for random splitting\n",
    "\n",
    "    model = regression_model()\n",
    "\n",
    "    # 3. Train the model on the training data using 50 epochs\n",
    "    model.fit(X_train, y_train, validation_split=0.3, epochs=50, verbose=0)  # verbose=0 to suppress output\n",
    "\n",
    "    # 4. Evaluate the model on the test data and compute the MSE\n",
    "    y_pred = model.predict(X_test)\n",
    "    mse = mean_squared_error(y_test, y_pred)\n",
    "    mse_list.append(mse)  # Store the MSE for this run\n",
    "\n",
    "# After completing all runs, calculate mean and standard deviation of the MSE\n",
    "mean_mse = np.mean(mse_list)\n",
    "std_mse = np.std(mse_list)\n",
    "\n",
    "# Output the results\n",
    "print(f\"Mean MSE over 50 runs: {mean_mse:.4f}\")\n",
    "print(f\"Standard Deviation of MSE over 50 runs: {std_mse:.4f}\")"
   ]
  },
  {
   "cell_type": "markdown",
   "id": "9eae5530-067a-4d05-ac6f-105a6e07c6e0",
   "metadata": {},
   "source": [
    "## B. Normalize the data "
   ]
  },
  {
   "cell_type": "code",
   "execution_count": 38,
   "id": "fd269a9a-8e7f-4401-b9a9-27ec41ba5dcf",
   "metadata": {},
   "outputs": [
    {
     "data": {
      "text/html": [
       "<div>\n",
       "<style scoped>\n",
       "    .dataframe tbody tr th:only-of-type {\n",
       "        vertical-align: middle;\n",
       "    }\n",
       "\n",
       "    .dataframe tbody tr th {\n",
       "        vertical-align: top;\n",
       "    }\n",
       "\n",
       "    .dataframe thead th {\n",
       "        text-align: right;\n",
       "    }\n",
       "</style>\n",
       "<table border=\"1\" class=\"dataframe\">\n",
       "  <thead>\n",
       "    <tr style=\"text-align: right;\">\n",
       "      <th></th>\n",
       "      <th>Cement</th>\n",
       "      <th>Blast Furnace Slag</th>\n",
       "      <th>Fly Ash</th>\n",
       "      <th>Water</th>\n",
       "      <th>Superplasticizer</th>\n",
       "      <th>Coarse Aggregate</th>\n",
       "      <th>Fine Aggregate</th>\n",
       "      <th>Age</th>\n",
       "    </tr>\n",
       "  </thead>\n",
       "  <tbody>\n",
       "    <tr>\n",
       "      <th>0</th>\n",
       "      <td>2.476712</td>\n",
       "      <td>-0.856472</td>\n",
       "      <td>-0.846733</td>\n",
       "      <td>-0.916319</td>\n",
       "      <td>-0.620147</td>\n",
       "      <td>0.862735</td>\n",
       "      <td>-1.217079</td>\n",
       "      <td>-0.279597</td>\n",
       "    </tr>\n",
       "    <tr>\n",
       "      <th>1</th>\n",
       "      <td>2.476712</td>\n",
       "      <td>-0.856472</td>\n",
       "      <td>-0.846733</td>\n",
       "      <td>-0.916319</td>\n",
       "      <td>-0.620147</td>\n",
       "      <td>1.055651</td>\n",
       "      <td>-1.217079</td>\n",
       "      <td>-0.279597</td>\n",
       "    </tr>\n",
       "    <tr>\n",
       "      <th>2</th>\n",
       "      <td>0.491187</td>\n",
       "      <td>0.795140</td>\n",
       "      <td>-0.846733</td>\n",
       "      <td>2.174405</td>\n",
       "      <td>-1.038638</td>\n",
       "      <td>-0.526262</td>\n",
       "      <td>-2.239829</td>\n",
       "      <td>3.551340</td>\n",
       "    </tr>\n",
       "    <tr>\n",
       "      <th>3</th>\n",
       "      <td>0.491187</td>\n",
       "      <td>0.795140</td>\n",
       "      <td>-0.846733</td>\n",
       "      <td>2.174405</td>\n",
       "      <td>-1.038638</td>\n",
       "      <td>-0.526262</td>\n",
       "      <td>-2.239829</td>\n",
       "      <td>5.055221</td>\n",
       "    </tr>\n",
       "    <tr>\n",
       "      <th>4</th>\n",
       "      <td>-0.790075</td>\n",
       "      <td>0.678079</td>\n",
       "      <td>-0.846733</td>\n",
       "      <td>0.488555</td>\n",
       "      <td>-1.038638</td>\n",
       "      <td>0.070492</td>\n",
       "      <td>0.647569</td>\n",
       "      <td>4.976069</td>\n",
       "    </tr>\n",
       "  </tbody>\n",
       "</table>\n",
       "</div>"
      ],
      "text/plain": [
       "     Cement  Blast Furnace Slag   Fly Ash     Water  Superplasticizer  \\\n",
       "0  2.476712           -0.856472 -0.846733 -0.916319         -0.620147   \n",
       "1  2.476712           -0.856472 -0.846733 -0.916319         -0.620147   \n",
       "2  0.491187            0.795140 -0.846733  2.174405         -1.038638   \n",
       "3  0.491187            0.795140 -0.846733  2.174405         -1.038638   \n",
       "4 -0.790075            0.678079 -0.846733  0.488555         -1.038638   \n",
       "\n",
       "   Coarse Aggregate  Fine Aggregate       Age  \n",
       "0          0.862735       -1.217079 -0.279597  \n",
       "1          1.055651       -1.217079 -0.279597  \n",
       "2         -0.526262       -2.239829  3.551340  \n",
       "3         -0.526262       -2.239829  5.055221  \n",
       "4          0.070492        0.647569  4.976069  "
      ]
     },
     "execution_count": 38,
     "metadata": {},
     "output_type": "execute_result"
    }
   ],
   "source": [
    "predictors_norm = (predictors - predictors.mean()) / predictors.std()\n",
    "predictors_norm.head()"
   ]
  },
  {
   "cell_type": "code",
   "execution_count": 39,
   "id": "95e1ea12-ba66-4396-baad-75d17624a12c",
   "metadata": {},
   "outputs": [
    {
     "data": {
      "text/plain": [
       "0    2.644123\n",
       "1    1.560663\n",
       "2    0.266498\n",
       "3    0.313188\n",
       "4    0.507732\n",
       "Name: Strength, dtype: float64"
      ]
     },
     "execution_count": 39,
     "metadata": {},
     "output_type": "execute_result"
    }
   ],
   "source": [
    "target_norm = (target - target.mean()) / target.std()\n",
    "target_norm.head()"
   ]
  },
  {
   "cell_type": "code",
   "execution_count": 40,
   "id": "b2175e34-d382-4b1d-9bfc-f08c5fc8af59",
   "metadata": {},
   "outputs": [],
   "source": [
    "X = predictors_norm\n",
    "y = target_norm"
   ]
  },
  {
   "cell_type": "code",
   "execution_count": 41,
   "id": "f3ecf084-bde0-4b6d-9c5d-9f4815dc24eb",
   "metadata": {},
   "outputs": [
    {
     "name": "stdout",
     "output_type": "stream",
     "text": [
      "10/10 [==============================] - 0s 892us/step\n",
      "10/10 [==============================] - 0s 778us/step\n",
      "10/10 [==============================] - 0s 755us/step\n",
      "10/10 [==============================] - 0s 670us/step\n",
      "10/10 [==============================] - 0s 778us/step\n",
      "10/10 [==============================] - 0s 778us/step\n",
      "10/10 [==============================] - 0s 778us/step\n",
      "10/10 [==============================] - 0s 753us/step\n",
      "10/10 [==============================] - 0s 889us/step\n",
      "10/10 [==============================] - 0s 795us/step\n",
      "10/10 [==============================] - 0s 778us/step\n",
      "10/10 [==============================] - 0s 671us/step\n",
      "10/10 [==============================] - 0s 737us/step\n",
      "10/10 [==============================] - 0s 779us/step\n",
      "10/10 [==============================] - 0s 713us/step\n",
      "10/10 [==============================] - 0s 755us/step\n",
      "10/10 [==============================] - 0s 778us/step\n",
      "10/10 [==============================] - 0s 778us/step\n",
      "10/10 [==============================] - 0s 781us/step\n",
      "10/10 [==============================] - 0s 729us/step\n",
      "10/10 [==============================] - 0s 667us/step\n",
      "10/10 [==============================] - 0s 778us/step\n",
      "10/10 [==============================] - 0s 778us/step\n",
      "10/10 [==============================] - 0s 667us/step\n",
      "10/10 [==============================] - 0s 667us/step\n",
      "10/10 [==============================] - 0s 803us/step\n",
      "10/10 [==============================] - 0s 762us/step\n",
      "10/10 [==============================] - 0s 667us/step\n",
      "10/10 [==============================] - 0s 777us/step\n",
      "10/10 [==============================] - 0s 778us/step\n",
      "10/10 [==============================] - 0s 779us/step\n",
      "10/10 [==============================] - 0s 778us/step\n",
      "10/10 [==============================] - 0s 778us/step\n",
      "10/10 [==============================] - 0s 778us/step\n",
      "10/10 [==============================] - 0s 853us/step\n",
      "10/10 [==============================] - 0s 778us/step\n",
      "10/10 [==============================] - 0s 779us/step\n",
      "10/10 [==============================] - 0s 778us/step\n",
      "10/10 [==============================] - 0s 777us/step\n",
      "10/10 [==============================] - 0s 778us/step\n",
      "10/10 [==============================] - 0s 774us/step\n",
      "10/10 [==============================] - 0s 778us/step\n",
      "10/10 [==============================] - 0s 890us/step\n",
      "10/10 [==============================] - 0s 735us/step\n",
      "10/10 [==============================] - 0s 778us/step\n",
      "10/10 [==============================] - 0s 667us/step\n",
      "10/10 [==============================] - 0s 778us/step\n",
      "10/10 [==============================] - 0s 778us/step\n",
      "10/10 [==============================] - 0s 778us/step\n",
      "10/10 [==============================] - 0s 778us/step\n",
      "Mean MSE over 50 runs: 0.3141\n",
      "Standard Deviation of MSE over 50 runs: 0.0675\n"
     ]
    }
   ],
   "source": [
    "# List to store MSE values for each run\n",
    "mse_list = []\n",
    "\n",
    "# Repeat the process 50 times\n",
    "for _ in range(50):\n",
    "    # 1. Split the data into training and test sets\n",
    "    X_train, X_test, y_train, y_test = train_test_split(X, y, test_size=0.3, random_state=None)  # random_state=None for random splitting\n",
    "\n",
    "    model = regression_model()\n",
    "\n",
    "    # 3. Train the model on the training data using 50 epochs\n",
    "    model.fit(X_train, y_train, validation_split=0.3, epochs=50, verbose=0)  # verbose=0 to suppress output\n",
    "\n",
    "    # 4. Evaluate the model on the test data and compute the MSE\n",
    "    y_pred = model.predict(X_test)\n",
    "    mse = mean_squared_error(y_test, y_pred)\n",
    "    mse_list.append(mse)  # Store the MSE for this run\n",
    "\n",
    "# After completing all runs, calculate mean and standard deviation of the MSE\n",
    "mean_mse = np.mean(mse_list)\n",
    "std_mse = np.std(mse_list)\n",
    "\n",
    "# Output the results\n",
    "print(f\"Mean MSE over 50 runs: {mean_mse:.4f}\")\n",
    "print(f\"Standard Deviation of MSE over 50 runs: {std_mse:.4f}\")"
   ]
  },
  {
   "cell_type": "markdown",
   "id": "38cd44d2-4379-463e-b11e-89881d849aed",
   "metadata": {
    "jp-MarkdownHeadingCollapsed": true
   },
   "source": [
    "## C.  Increate the number of epochs"
   ]
  },
  {
   "cell_type": "code",
   "execution_count": 42,
   "id": "0528eed7-e5b1-4c84-b78b-2502451caca3",
   "metadata": {},
   "outputs": [
    {
     "name": "stdout",
     "output_type": "stream",
     "text": [
      "10/10 [==============================] - 0s 778us/step\n",
      "10/10 [==============================] - 0s 674us/step\n",
      "10/10 [==============================] - 0s 662us/step\n",
      "10/10 [==============================] - 0s 889us/step\n",
      "10/10 [==============================] - 0s 814us/step\n",
      "10/10 [==============================] - 0s 581us/step\n",
      "10/10 [==============================] - 0s 741us/step\n",
      "10/10 [==============================] - 0s 816us/step\n",
      "10/10 [==============================] - 0s 779us/step\n",
      "10/10 [==============================] - 0s 698us/step\n",
      "10/10 [==============================] - 0s 778us/step\n",
      "10/10 [==============================] - 0s 667us/step\n",
      "10/10 [==============================] - 0s 654us/step\n",
      "10/10 [==============================] - 0s 766us/step\n",
      "10/10 [==============================] - 0s 778us/step\n",
      "10/10 [==============================] - 0s 778us/step\n",
      "10/10 [==============================] - 0s 1ms/step\n",
      "10/10 [==============================] - 0s 779us/step\n",
      "10/10 [==============================] - 0s 810us/step\n",
      "10/10 [==============================] - 0s 667us/step\n",
      "10/10 [==============================] - 0s 657us/step\n",
      "10/10 [==============================] - 0s 899us/step\n",
      "10/10 [==============================] - 0s 795us/step\n",
      "10/10 [==============================] - 0s 801us/step\n",
      "10/10 [==============================] - 0s 778us/step\n",
      "10/10 [==============================] - 0s 667us/step\n",
      "10/10 [==============================] - 0s 795us/step\n",
      "10/10 [==============================] - 0s 778us/step\n",
      "10/10 [==============================] - 0s 779us/step\n",
      "10/10 [==============================] - 0s 665us/step\n",
      "10/10 [==============================] - 0s 778us/step\n",
      "10/10 [==============================] - 0s 888us/step\n",
      "10/10 [==============================] - 0s 896us/step\n",
      "10/10 [==============================] - 0s 884us/step\n",
      "10/10 [==============================] - 0s 889us/step\n",
      "10/10 [==============================] - 0s 777us/step\n",
      "10/10 [==============================] - 0s 676us/step\n",
      "10/10 [==============================] - 0s 1ms/step\n",
      "10/10 [==============================] - 0s 778us/step\n",
      "10/10 [==============================] - 0s 778us/step\n",
      "10/10 [==============================] - 0s 667us/step\n",
      "10/10 [==============================] - 0s 666us/step\n",
      "10/10 [==============================] - 0s 778us/step\n",
      "10/10 [==============================] - 0s 778us/step\n",
      "10/10 [==============================] - 0s 667us/step\n",
      "10/10 [==============================] - 0s 778us/step\n",
      "10/10 [==============================] - 0s 813us/step\n",
      "10/10 [==============================] - 0s 757us/step\n",
      "10/10 [==============================] - 0s 778us/step\n",
      "10/10 [==============================] - 0s 889us/step\n",
      "Mean MSE over 50 runs: 0.2127\n",
      "Standard Deviation of MSE over 50 runs: 0.0322\n"
     ]
    }
   ],
   "source": [
    "# List to store MSE values for each run\n",
    "mse_list = []\n",
    "\n",
    "# Repeat the process 50 times\n",
    "for _ in range(50):\n",
    "    # 1. Split the data into training and test sets\n",
    "    X_train, X_test, y_train, y_test = train_test_split(X, y, test_size=0.3, random_state=None)  # random_state=None for random splitting\n",
    "\n",
    "    model = regression_model()\n",
    "\n",
    "    # 3. Train the model on the training data using 50 epochs\n",
    "    model.fit(X_train, y_train, validation_split=0.3, epochs=100, verbose=0)  # verbose=0 to suppress output\n",
    "\n",
    "    # 4. Evaluate the model on the test data and compute the MSE\n",
    "    y_pred = model.predict(X_test)\n",
    "    mse = mean_squared_error(y_test, y_pred)\n",
    "    mse_list.append(mse)  # Store the MSE for this run\n",
    "\n",
    "# After completing all runs, calculate mean and standard deviation of the MSE\n",
    "mean_mse = np.mean(mse_list)\n",
    "std_mse = np.std(mse_list)\n",
    "\n",
    "# Output the results\n",
    "print(f\"Mean MSE over 50 runs: {mean_mse:.4f}\")\n",
    "print(f\"Standard Deviation of MSE over 50 runs: {std_mse:.4f}\")"
   ]
  },
  {
   "cell_type": "markdown",
   "id": "814002dc-7ac2-4672-a7d3-66659cfe783c",
   "metadata": {
    "jp-MarkdownHeadingCollapsed": true
   },
   "source": [
    "## D. Increase the number of hidden layers"
   ]
  },
  {
   "cell_type": "code",
   "execution_count": 44,
   "id": "baf19268-81b1-4ebf-920c-3e159a098902",
   "metadata": {},
   "outputs": [],
   "source": [
    "# define regression model\n",
    "def regression_model_3hidden():\n",
    "    # create model\n",
    "    model = Sequential()\n",
    "    model.add(Dense(10, activation='relu', input_shape=(n_cols,)))\n",
    "    model.add(Dense(10, activation='relu'))\n",
    "    model.add(Dense(10, activation='relu'))\n",
    "    model.add(Dense(1))\n",
    "    \n",
    "    # compile model\n",
    "    model.compile(optimizer='adam', loss='mean_squared_error')\n",
    "    return model"
   ]
  },
  {
   "cell_type": "code",
   "execution_count": 45,
   "id": "eedd3492-104d-4ff0-aaec-f34e2484c7da",
   "metadata": {},
   "outputs": [
    {
     "name": "stdout",
     "output_type": "stream",
     "text": [
      "10/10 [==============================] - 0s 778us/step\n",
      "10/10 [==============================] - 0s 778us/step\n",
      "10/10 [==============================] - 0s 754us/step\n",
      "10/10 [==============================] - 0s 799us/step\n",
      "10/10 [==============================] - 0s 738us/step\n",
      "10/10 [==============================] - 0s 782us/step\n",
      "10/10 [==============================] - 0s 889us/step\n",
      "10/10 [==============================] - 0s 778us/step\n",
      "10/10 [==============================] - 0s 774us/step\n",
      "10/10 [==============================] - 0s 779us/step\n",
      "10/10 [==============================] - 0s 778us/step\n",
      "10/10 [==============================] - 0s 778us/step\n",
      "10/10 [==============================] - 0s 667us/step\n",
      "10/10 [==============================] - 0s 779us/step\n",
      "10/10 [==============================] - 0s 778us/step\n",
      "10/10 [==============================] - 0s 778us/step\n",
      "10/10 [==============================] - 0s 727us/step\n",
      "10/10 [==============================] - 0s 778us/step\n",
      "10/10 [==============================] - 0s 777us/step\n",
      "10/10 [==============================] - 0s 765us/step\n",
      "10/10 [==============================] - 0s 779us/step\n",
      "10/10 [==============================] - 0s 782us/step\n",
      "10/10 [==============================] - 0s 667us/step\n",
      "10/10 [==============================] - 0s 778us/step\n",
      "10/10 [==============================] - 0s 778us/step\n",
      "10/10 [==============================] - 0s 777us/step\n",
      "10/10 [==============================] - 0s 778us/step\n",
      "10/10 [==============================] - 0s 778us/step\n",
      "10/10 [==============================] - 0s 778us/step\n",
      "10/10 [==============================] - 0s 779us/step\n",
      "10/10 [==============================] - 0s 778us/step\n",
      "10/10 [==============================] - 0s 779us/step\n",
      "10/10 [==============================] - 0s 768us/step\n",
      "10/10 [==============================] - 0s 781us/step\n",
      "10/10 [==============================] - 0s 778us/step\n",
      "10/10 [==============================] - 0s 667us/step\n",
      "10/10 [==============================] - 0s 889us/step\n",
      "10/10 [==============================] - 0s 778us/step\n",
      "10/10 [==============================] - 0s 778us/step\n",
      "10/10 [==============================] - 0s 778us/step\n",
      "10/10 [==============================] - 0s 848us/step\n",
      "10/10 [==============================] - 0s 778us/step\n",
      "10/10 [==============================] - 0s 778us/step\n",
      "10/10 [==============================] - 0s 778us/step\n",
      "10/10 [==============================] - 0s 778us/step\n",
      "10/10 [==============================] - 0s 778us/step\n",
      "10/10 [==============================] - 0s 723us/step\n",
      "10/10 [==============================] - 0s 889us/step\n",
      "10/10 [==============================] - 0s 783us/step\n",
      "10/10 [==============================] - 0s 777us/step\n",
      "Mean MSE over 50 runs: 0.1810\n",
      "Standard Deviation of MSE over 50 runs: 0.0238\n"
     ]
    }
   ],
   "source": [
    "# List to store MSE values for each run\n",
    "mse_list = []\n",
    "\n",
    "# Repeat the process 50 times\n",
    "for _ in range(50):\n",
    "    # 1. Split the data into training and test sets\n",
    "    X_train, X_test, y_train, y_test = train_test_split(X, y, test_size=0.3, random_state=None)  # random_state=None for random splitting\n",
    "\n",
    "    model = regression_model_3hidden()\n",
    "\n",
    "    # 3. Train the model on the training data using 50 epochs\n",
    "    model.fit(X_train, y_train, validation_split=0.3, epochs=100, verbose=0)  # verbose=0 to suppress output\n",
    "\n",
    "    # 4. Evaluate the model on the test data and compute the MSE\n",
    "    y_pred = model.predict(X_test)\n",
    "    mse = mean_squared_error(y_test, y_pred)\n",
    "    mse_list.append(mse)  # Store the MSE for this run\n",
    "\n",
    "# After completing all runs, calculate mean and standard deviation of the MSE\n",
    "mean_mse = np.mean(mse_list)\n",
    "std_mse = np.std(mse_list)\n",
    "\n",
    "# Output the results\n",
    "print(f\"Mean MSE over 50 runs: {mean_mse:.4f}\")\n",
    "print(f\"Standard Deviation of MSE over 50 runs: {std_mse:.4f}\")"
   ]
  },
  {
   "cell_type": "code",
   "execution_count": null,
   "id": "33f695cb-9422-4c4f-926c-1b01c5b68d4f",
   "metadata": {},
   "outputs": [],
   "source": []
  }
 ],
 "metadata": {
  "kernelspec": {
   "display_name": "Python 3 (ipykernel)",
   "language": "python",
   "name": "python3"
  },
  "language_info": {
   "codemirror_mode": {
    "name": "ipython",
    "version": 3
   },
   "file_extension": ".py",
   "mimetype": "text/x-python",
   "name": "python",
   "nbconvert_exporter": "python",
   "pygments_lexer": "ipython3",
   "version": "3.8.18"
  }
 },
 "nbformat": 4,
 "nbformat_minor": 5
}
